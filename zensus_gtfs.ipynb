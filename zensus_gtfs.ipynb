{
 "cells": [
  {
   "cell_type": "markdown",
   "id": "355590f2",
   "metadata": {},
   "source": [
    "# Abgleich Angebot Fahrplan GTFS mit Zensus Daten"
   ]
  },
  {
   "cell_type": "code",
   "execution_count": null,
   "id": "2604439d",
   "metadata": {},
   "outputs": [],
   "source": [
    "import duckdb\n",
    "import datetime as dt\n",
    "import pandas as pd"
   ]
  },
  {
   "cell_type": "code",
   "execution_count": null,
   "id": "00c8a022",
   "metadata": {},
   "outputs": [],
   "source": [
    "import locale\n",
    "locale.setlocale(locale.LC_ALL, 'en_GB.UTF-8')"
   ]
  },
  {
   "cell_type": "code",
   "execution_count": null,
   "id": "85e00522",
   "metadata": {},
   "outputs": [],
   "source": [
    "duck = duckdb.connect(database=':memory:', read_only=False)"
   ]
  },
  {
   "cell_type": "code",
   "execution_count": null,
   "id": "0bd77cda",
   "metadata": {},
   "outputs": [],
   "source": [
    "duck.sql(\"\"\"\n",
    "         install spatial;\n",
    "            load spatial;\n",
    "         INSTALL zipfs FROM community;\n",
    "LOAD zipfs;\n",
    "         install httpfs;\n",
    "         \"\"\")"
   ]
  },
  {
   "cell_type": "markdown",
   "id": "511ff775",
   "metadata": {},
   "source": [
    "## Laden der Gemeindegrenzen"
   ]
  },
  {
   "cell_type": "code",
   "execution_count": null,
   "id": "ad22b049",
   "metadata": {},
   "outputs": [],
   "source": [
    "duck.sql(\"\"\"create or replace table gemeinden as\n",
    "         select * from st_read('grenzen/VG250_GEM.shp')\"\"\")"
   ]
  },
  {
   "cell_type": "markdown",
   "id": "f5c1f8ea",
   "metadata": {},
   "source": [
    "## Laden der Zensus-Daten im 100m-Raster"
   ]
  },
  {
   "cell_type": "code",
   "execution_count": null,
   "id": "30f05a32",
   "metadata": {},
   "outputs": [],
   "source": [
    "duck.sql(\"\"\"create or replace table zensus_100m as\n",
    "         select * \n",
    "         from read_csv('zip://zensus/Alter_in_5_Altersklassen.zip/Alter_in_5_Altersklassen/Zensus2022_Alter_in_5_Altersklassen_100m-Gitter.csv', \n",
    "         nullstr='–',\n",
    "         sep=';')\"\"\")"
   ]
  },
  {
   "cell_type": "code",
   "execution_count": null,
   "id": "f8709e62",
   "metadata": {},
   "outputs": [],
   "source": [
    "duck.sql(\"from zensus_100m\")"
   ]
  },
  {
   "cell_type": "markdown",
   "id": "6f8025ad",
   "metadata": {},
   "source": [
    "## Laden GTFS"
   ]
  },
  {
   "cell_type": "code",
   "execution_count": null,
   "id": "47b85dd3",
   "metadata": {},
   "outputs": [],
   "source": [
    "trips = 'zip://gtfs/gtfs_top_level.zip/trips.txt'\n",
    "routes = 'zip://gtfs/gtfs_top_level.zip/routes.txt'\n",
    "agency = 'zip://gtfs/gtfs_top_level.zip/agency.txt'\n",
    "calendar = 'zip://gtfs/gtfs_top_level.zip/calendar.txt'\n",
    "calendar_dates = 'zip://gtfs/gtfs_top_level.zip/calendar_dates.txt'\n",
    "stops = 'zip://gtfs/gtfs_top_level.zip/stops.txt'\n",
    "stop_times = 'zip://gtfs/gtfs_top_level.zip/stop_times.txt'\n",
    "frequencies = 'zip://gtfs/gtfs_top_level.zip/frequencies.txt'\n",
    "transfers = 'zip://gtfs/gtfs_top_level.zip/transfers.txt'\n",
    "service_alerts = 'zip://gtfs/gtfs_top_level.zip/service_alerts.txt'\n",
    "shapes = 'zip://gtfs/gtfs_top_level.zip/shapes.txt'"
   ]
  },
  {
   "cell_type": "code",
   "execution_count": null,
   "id": "e64b927c",
   "metadata": {},
   "outputs": [],
   "source": [
    "def gtfs_init_sql():\n",
    "    sql = \"\"\"\n",
    "    load spatial;\n",
    "    load httpfs;\n",
    "    --Einlesen der Linientabelle aus DM\n",
    "    -- erfolgt jetzt über attach 02.12.2024\n",
    "    --create or replace table linien_dm as select * from read_csv_auto('input/linien_dm.csv');\n",
    "\n",
    "    --Erzeugen eines ENUM Type (begrenzte Anzahl von Werten) nur mit String nicht integer\n",
    "    --bei Type gibt es kein replace, daher können diese nur einmalig ausgeführt, ansonsten Error\n",
    "    CREATE TYPE enum01 AS ENUM ('0', '1');\n",
    "    CREATE TYPE enum012 AS ENUM ('0', '1', '2');\n",
    "    CREATE TYPE enum0123 AS ENUM ('0', '1', '2', '3');\n",
    "    CREATE TYPE enum01234 AS ENUM ('0', '1', '2', '3', '4');\n",
    "    CREATE TYPE enum12 AS ENUM ('1', '2');\n",
    "    CREATE TYPE enum_route_type AS ENUM ('0','1', '2','3', '4', '5', '6', '7', '11', '12');\n",
    "        \"\"\"\n",
    "    return sql"
   ]
  },
  {
   "cell_type": "code",
   "execution_count": null,
   "id": "0583612e",
   "metadata": {},
   "outputs": [],
   "source": [
    "def gtfs_load_sql(agency, calendar, calendar_dates, routes, trips, stops, stop_times, frequencies, transfers, service_alerts, shapes):\n",
    "    \"\"\"\n",
    "    Generates SQL to create GTFS tables in DuckDB.\n",
    "    Parameters:\n",
    "    - agency: Path to the agency.txt file.\n",
    "    - calendar: Path to the calendar.txt file.\n",
    "    - calendar_dates: Path to the calendar_dates.txt file.\n",
    "    - routes: Path to the routes.txt file.\n",
    "    - trips: Path to the trips.txt file.\n",
    "    - stops: Path to the stops.txt file.\n",
    "    - stop_times: Path to the stop_times.txt file.\n",
    "    - frequencies: Path to the frequencies.txt file.\n",
    "    - service_alerts: Path to the service_alerts.txt file (default is set).\n",
    "    Returns:\n",
    "    - SQL string to create the GTFS tables.\n",
    "    \"\"\"\n",
    "\n",
    "    sql = f\"\"\"\n",
    "    -- Skript zum Erzeugen einer DuckDB Datenbank mit GTFS Tabellen\n",
    "    -- Version für Toplevel\n",
    "    -- Stand 21.07.2025 mit Festlegen der Datenformate\n",
    "    -- Tausch der Spaltenreihenfolge bei Stop_times\n",
    "\n",
    "    load spatial;\n",
    "    load httpfs;\n",
    "    load zipfs;\n",
    "\n",
    "    --Einlesen der GTFS Tabellen\n",
    "    --create or replace table agency as select * from read_csv_auto('/home/ts/python/duckdb/gtfs/agency.txt');\n",
    "    CREATE or REPLACE table agency AS \n",
    "        select * from read_csv('{agency}', delim=',', header=true, dateformat = '%Y%m%d',\n",
    "        columns={{'agency_id': 'VARCHAR', \n",
    "        'agency_name': 'VARCHAR', \n",
    "        'agency_url': 'VARCHAR', \n",
    "        'agency_timezone': 'VARCHAR', \n",
    "        'agency_lang': 'VARCHAR', \n",
    "        'agency_phone':'VARCHAR'}});\n",
    "\n",
    "    --create or replace table calendar as select * from read_csv_auto('calendar.txt');\n",
    "    CREATE OR REPLACE table calendar AS \n",
    "        select * from read_csv('{calendar}', delim=',', header=true, dateformat = '%Y%m%d',\n",
    "        columns={{'service_id': 'VARCHAR', \n",
    "        'monday': 'enum01', \n",
    "        'tuesday': 'enum01', \n",
    "        'wednesday': 'enum01', \n",
    "        'thursday':'enum01', \n",
    "        'friday':'enum01',\n",
    "        'saturday': 'enum01',\n",
    "        'sunday' : 'enum01',\n",
    "        'start_date' : 'DATE',\n",
    "        'end_date' : 'DATE'}});\n",
    "    --create or replace table calendar as select * from read_csv_auto('/home/ts/python/duckdb/gtfs/calendar.txt');\n",
    "\n",
    "    --ALTER TABLE calendar ALTER monday TYPE smallint;\n",
    "    --create or replace table calendar_dates as select * from read_csv_auto('/home/ts/python/duckdb/gtfs/calendar_dates.txt');\n",
    "    CREATE or REPLACE table calendar_dates AS \n",
    "        select * from read_csv('{calendar_dates}', delim=',', header=true, dateformat = '%Y%m%d',\n",
    "        columns={{'service_id': 'VARCHAR', \n",
    "        'date': 'DATE', \n",
    "        'exception_type': 'enum12'}});\n",
    "\n",
    "    create or replace table frequencies as select * from read_csv_auto('{frequencies}');\n",
    "    -- Levels / Pathways in TOP nicht enthalten\n",
    "    --create or replace table levels as select * from read_csv_auto('gtfs_top/levels.txt');\n",
    "    --create or replace table pathways as select * from read_csv_auto('gtfs_top/pathways.txt');\n",
    "    --create or replace table routes as select * from read_csv_auto('/home/ts/python/duckdb/gtfs/routes.txt');\n",
    "    CREATE or REPLACE table routes AS \n",
    "        select * from read_csv('{routes}', delim=',', header=true, dateformat = '%Y%m%d',\n",
    "        columns={{'route_id': 'VARCHAR', \n",
    "        'agency_id': 'VARCHAR', \n",
    "        'route_short_name': 'VARCHAR', \n",
    "        'route_long_name': 'VARCHAR', \n",
    "        'route_type':'INTEGER',  -- eigentlich enum aber fehlerhafte Daten mit route_type 715\n",
    "        'route_color':'VARCHAR',\n",
    "        'route_text_color': 'VARCHAR',\n",
    "        'route_desc' : 'VARCHAR'}});\n",
    "\n",
    "    create or replace table service_alerts as select * from read_csv_auto('{service_alerts}');\n",
    "    create or replace table shapes as select * from read_csv_auto('{shapes}');\n",
    "    --create or replace table stop_times as select * from read_csv_auto('/home/ts/python/duckdb/gtfs/stop_times.txt');\n",
    "    CREATE or REPLACE table stop_times AS \n",
    "        select * from read_csv(\n",
    "            '{stop_times}', \n",
    "            delim=',', \n",
    "            header=true, \n",
    "            dateformat = '%Y%m%d', \t\t\n",
    "            ignore_errors= true,\n",
    "        columns={{\n",
    "        'trip_id': 'VARCHAR', \n",
    "        'stop_id':'VARCHAR', \n",
    "        'stop_sequence':'INT16',\t\n",
    "        'pickup_type' : 'VARCHAR',\n",
    "        'drop_off_type' : 'VARCHAR',\n",
    "        'stop_headsign': 'VARCHAR',\n",
    "        'arrival_time': 'VARCHAR', \n",
    "        'departure_time': 'VARCHAR'\n",
    "        }},  store_rejects = true\n",
    "        );\n",
    "\n",
    "    CREATE or REPLACE table stops AS \n",
    "        select * from read_csv('{stops}', delim=',', header=true, dateformat = '%Y%m%d',\n",
    "        columns={{'stop_id': 'VARCHAR', \n",
    "        'stop_code': 'VARCHAR', \n",
    "        'stop_name': 'VARCHAR', \n",
    "        'stop_desc': 'VARCHAR', \n",
    "        'stop_lat':'DOUBLE', \n",
    "        'stop_lon':'DOUBLE',\t\n",
    "        'location_type' : 'enum01234',\n",
    "        'parent_station' : 'VARCHAR',\n",
    "        'wheelchair_boarding': 'enum012',\n",
    "        'platform_code': 'VARCHAR',\n",
    "        'zone_id': 'VARCHAR'\n",
    "        }},\n",
    "        store_rejects = true);\n",
    "\n",
    "    create or replace table transfers as select * from read_csv_auto('{transfers}');\n",
    " \n",
    "    CREATE or REPLACE TABLE trips AS \n",
    "        select * from read_csv('{trips}', delim=',', header=true, dateformat = '%Y%m%d',\n",
    "        columns={{\n",
    "            'route_id' : 'VARCHAR', \n",
    "            'service_id': 'VARCHAR', \n",
    "        'trip_id': 'VARCHAR', \n",
    "        'trip_headsign': 'VARCHAR', \n",
    "        'trip_short_name': 'VARCHAR', \n",
    "        'direction_id':'enum01', \n",
    "        'block_id':'VARCHAR',\n",
    "        'shape_id': 'VARCHAR',\n",
    "        'wheelchair_accessible' : 'enum012',\n",
    "        'bikes_allowed' : 'enum012'\n",
    "        }},\n",
    "        store_rejects = true);\n",
    "\n",
    "    --Einlesen der VBN Grenzen\n",
    "    create or replace table vbn as select * from st_read('grenzen/vbn.gpkg');\n",
    "\n",
    "    --Einlesen HIS und Erstellen einer Geometry-Spalte\n",
    "    create or replace table his_akt as select * from \"https://daten.zvbn.de/his_akt.csv\";\n",
    "    alter table his_akt add column geom Geometry;\n",
    "    UPDATE his_akt set geom = st_point(x_wgs, y_wgs);\n",
    "\n",
    "    --Erstellen einer Tabelle mit Geom-Spalte\n",
    "    create or replace table stops_geom as select *, st_point(stop_lon, stop_lat) as geom from stops;\n",
    "    ALTER TABLE stops add column geom Geometry;\n",
    "    UPDATE stops set geom = st_point(stop_lon, stop_lat);\n",
    "\n",
    "    -- Erstellen einer Tabelle Stops im VBN\n",
    "    create or replace table stops_vbn as \n",
    "        select s.stop_id, s.stop_name, s.geom from stops s join vbn on st_within(s.geom, vbn.geom);\n",
    "\n",
    "    -- Verknüpfen der Stops mit den Trips und den Routen für die Routen im VBN\n",
    "    create or replace view vw_routes_vbn as \n",
    "        select distinct r.route_id, r.route_type, r.route_short_name, a.agency_id, a.agency_name from\n",
    "        stop_times st \n",
    "        join stops_vbn s_vbn on s_vbn.stop_id = st.stop_id\n",
    "        join trips t on st.trip_id = t.trip_id\n",
    "        join routes r on t.route_id = r.route_id\n",
    "        join agency a on a.agency_id = r.agency_id;\n",
    "\n",
    "    -- Verknüpfen der Stops mit den Trips und den Routen für die Routen im VBN > feste Tabelle\n",
    "    create or replace table tbl_routes_vbn as \n",
    "        select distinct r.route_id, r.route_type, r.route_short_name, a.agency_id, a.agency_name from\n",
    "        stop_times st \n",
    "        join stops_vbn s_vbn on s_vbn.stop_id = st.stop_id\n",
    "        join trips t on st.trip_id = t.trip_id\n",
    "        join routes r on t.route_id = r.route_id\n",
    "        join agency a on a.agency_id = r.agency_id;\n",
    "\n",
    "    -- Verknüpfung des Verlaufs mit den Haltestellennamen\n",
    "    create or replace view vw_trip_stop as\n",
    "        SELECT a.agency_id, r.route_id, r.route_short_name, st.trip_id, t.trip_short_name, t.service_id, st.stop_sequence, st.stop_id, s.stop_name, st.arrival_time, st.departure_time  \n",
    "        FROM stop_times st \n",
    "        JOIN stops s on s.stop_id = st.stop_id \n",
    "        JOIN trips t on st.trip_id = t.trip_id \n",
    "        JOIN routes r on r.route_id = t.route_id\n",
    "        JOIN agency a on a.agency_id = r.agency_id;\n",
    "\n",
    "    \"\"\"\n",
    "\n",
    "    return sql"
   ]
  },
  {
   "cell_type": "code",
   "execution_count": null,
   "id": "1e5b40c7",
   "metadata": {},
   "outputs": [],
   "source": [
    "print(gtfs_load_sql(agency, calendar, calendar_dates, routes, trips, stops, stop_times, frequencies, transfers, service_alerts, shapes))"
   ]
  },
  {
   "cell_type": "code",
   "execution_count": null,
   "id": "cbd24389",
   "metadata": {},
   "outputs": [],
   "source": [
    "duck.sql(gtfs_init_sql())"
   ]
  },
  {
   "cell_type": "code",
   "execution_count": null,
   "id": "26f12cb4",
   "metadata": {},
   "outputs": [],
   "source": [
    "duck.sql(gtfs_load_sql(agency, calendar, calendar_dates, routes, trips, stops, stop_times, frequencies, transfers, service_alerts, shapes))"
   ]
  },
  {
   "cell_type": "code",
   "execution_count": null,
   "id": "2b419741",
   "metadata": {},
   "outputs": [],
   "source": [
    "duck.sql(\"show all tables\")"
   ]
  },
  {
   "cell_type": "markdown",
   "id": "09a0297f",
   "metadata": {},
   "source": [
    "### Zensus Daten im VBN"
   ]
  },
  {
   "cell_type": "code",
   "execution_count": null,
   "id": "e860bc35",
   "metadata": {},
   "outputs": [],
   "source": [
    "duck.sql(\"\"\"create or replace table vbn_zensus as \n",
    "         select z.* exclude (x_mp_100m, y_mp_100m),  st_transform(st_point(z.x_mp_100m, z.y_mp_100m), 'EPSG:3035', 'EPSG:4326', always_xy := true) as geom\n",
    "         from zensus_100m z, vbn\n",
    "         where st_within(st_transform(st_point(z.x_mp_100m, z.y_mp_100m), 'EPSG:3035', 'EPSG:4326', always_xy := true), vbn.geom)\n",
    "         -- limit 10;\n",
    "         \"\"\")"
   ]
  },
  {
   "cell_type": "code",
   "execution_count": null,
   "id": "982bfd3f",
   "metadata": {},
   "outputs": [],
   "source": [
    "duck.sql(\"describe vbn_zensus\")"
   ]
  },
  {
   "cell_type": "code",
   "execution_count": null,
   "id": "c6e53917",
   "metadata": {},
   "outputs": [],
   "source": [
    "duck.sql(\"\"\"select sum(Insgesamt_Bevoelkerung) as sum_ew,\n",
    "     sum(unter18) as sum_unter18,\n",
    "        sum(a18bis29) as sum_a18bis29,\n",
    "         sum(a30bis49) as sum_a30bis49,\n",
    "         sum(a50bis64) as sum_a50bis64,\n",
    "         sum(a65undaelter) as sum_a65undaelter\n",
    "    from vbn_zensus\n",
    "    \"\"\")"
   ]
  },
  {
   "cell_type": "markdown",
   "id": "c8960382",
   "metadata": {},
   "source": [
    "## Abgleich mit GTFS"
   ]
  },
  {
   "cell_type": "markdown",
   "id": "5ab9a7c6",
   "metadata": {},
   "source": [
    "### Ermitteln der Einwohner im Einzugsbereich aller Haltestellen"
   ]
  },
  {
   "cell_type": "code",
   "execution_count": null,
   "id": "24c1b9b0",
   "metadata": {},
   "outputs": [],
   "source": [
    "radius = 1000  # Radius in meters\n",
    "duck.sql(f\"\"\"select \n",
    "         sum(Insgesamt_Bevoelkerung) as sum_ew,\n",
    "     sum(unter18) as sum_unter18,\n",
    "        sum(a18bis29) as sum_a18bis29,\n",
    "         sum(a30bis49) as sum_a30bis49,\n",
    "         sum(a50bis64) as sum_a50bis64,\n",
    "         sum(a65undaelter) as sum_a65undaelter from\n",
    "         (select distinct z.*\n",
    "         from vbn_zensus z, \n",
    "         \n",
    "         stops s\n",
    "         \n",
    "            where st_within(\n",
    "            st_transform(z.geom, 'EPSG:4326', 'EPSG:25832'),    \n",
    "            st_buffer(\n",
    "                st_transform(s.geom, 'EPSG:4326', 'EPSG:25832')\n",
    "            , {radius} )\n",
    "         )\n",
    "         group by all)\n",
    "         \"\"\")"
   ]
  },
  {
   "cell_type": "markdown",
   "id": "e72f68f5",
   "metadata": {},
   "source": [
    "### Ermitteln der Haltestellen die an einem bestimmten Tag angefahren werden und ermitteln der Einwohner"
   ]
  },
  {
   "cell_type": "code",
   "execution_count": null,
   "id": "b3d1d7ae",
   "metadata": {},
   "outputs": [],
   "source": [
    "locale.setlocale(locale.LC_ALL, 'en_GB.UTF-8') # damit Wochentag in englisch\n",
    "# Example string\n",
    "date_string = \"2025-08-03\"\n",
    "radius = 1000  # Radius in meters\n",
    "mindest_abfahrten = 0  # Mindestanzahl an Abfahrten\n",
    "\n",
    "# Convert string to date\n",
    "date_object = dt.datetime.strptime(date_string, \"%Y-%m-%d\").date()\n",
    "weekday_today_name = date_object.strftime('%A').lower()\n",
    "\n",
    "# Ermitteln der Service_id an dem Verkehrstag\n",
    "duck.sql(f\"\"\"create or replace table verkehrt_{date_object.strftime('%Y%m%d')} as \n",
    "         select *, true as verkehrt from\n",
    "         (select distinct t.service_id, cd.verkehrt_cd, c.verkehrt_c, \n",
    "         from trips t\n",
    "         left join (select service_id, date, exception_type as verkehrt_cd from calendar_dates \n",
    "         where date =  '{date_object.strftime('%Y-%m-%d')}' and exception_type = 1) as cd \n",
    "         on t.service_id = cd.service_id\n",
    "         left join  (select service_id, {date_object.strftime('%A').lower()} as verkehrt_c\n",
    "         from calendar\n",
    "         where {date_object.strftime('%A').lower()} = 1) as c\n",
    "         on t.service_id = c.service_id\n",
    "         where c.verkehrt_c = 1 or cd.verkehrt_cd = 1)\"\"\")\n",
    "\n",
    "#Ermitteln der Trips an dem Verkehrstag\n",
    "duck.sql(f\"\"\"create or replace table trips_{date_object.strftime('%Y%m%d')} as\n",
    "         select * \n",
    "         from trips t\n",
    "         join (select service_id \n",
    "            from  verkehrt_{date_object.strftime('%Y%m%d')} \n",
    "            where verkehrt_cd = 1 or verkehrt_c = 1) vh on t.service_id = vh.service_id\n",
    "         join vw_routes_vbn r on t.route_id = r.route_id\n",
    "         \"\"\")\n",
    "\n",
    "#Ermitteln der Haltestellen an dem Verkehrstag\n",
    "duck.sql(f\"\"\"select distinct s.* \n",
    "         from trips_{date_object.strftime('%Y%m%d')} ta, \n",
    "         trips t, stop_times st, stops s\n",
    "         where ta.trip_id = t.trip_id and t.trip_id = st.trip_id and st.stop_id = s.stop_id\n",
    "        \"\"\")\n",
    "\n",
    "#Ermitteln der statistischen Werte\n",
    "duck.sql(f\"\"\"select \n",
    "         sum(Insgesamt_Bevoelkerung) as sum_ew,\n",
    "        sum(unter18) as sum_unter18,\n",
    "        sum(a18bis29) as sum_a18bis29,\n",
    "         sum(a30bis49) as sum_a30bis49,\n",
    "         sum(a50bis64) as sum_a50bis64,\n",
    "         sum(a65undaelter) as sum_a65undaelter from\n",
    "         (select distinct z.*\n",
    "         from vbn_zensus z, \n",
    "         \n",
    "         (\n",
    "        select distinct s.stop_id, s.stop_name, s.geom, s.stop_lon, s.stop_lat, count(t.trip_id) as anzahl_abfahrten\n",
    "         from trips_{date_object.strftime('%Y%m%d')} ta, \n",
    "         trips t, stop_times st, stops s\n",
    "         where ta.trip_id = t.trip_id and t.trip_id = st.trip_id and st.stop_id = s.stop_id \n",
    "         group by all\n",
    "         ) s\n",
    "         \n",
    "            where st_within(\n",
    "            st_transform(z.geom, 'EPSG:4326', 'EPSG:25832'),    \n",
    "            st_buffer(\n",
    "                st_transform(s.geom, 'EPSG:4326', 'EPSG:25832')\n",
    "            , {radius} )\n",
    "           \n",
    "         ) and s.anzahl_abfahrten > {mindest_abfahrten}  -- Mindestanzahl an Abfahrten\n",
    "         group by all)\n",
    "         \"\"\")"
   ]
  },
  {
   "cell_type": "markdown",
   "id": "fb1b8d9f",
   "metadata": {},
   "source": [
    "### Ermitteln der Abfahrten je Haltestelle"
   ]
  },
  {
   "cell_type": "code",
   "execution_count": null,
   "id": "f470d541",
   "metadata": {},
   "outputs": [],
   "source": [
    "duck.sql(f\"\"\"\n",
    "select distinct s.stop_id, s.stop_name, s.geom, s.stop_lon, s.stop_lat, count(t.trip_id) as anzahl_abfahrten\n",
    "         from trips_{date_object.strftime('%Y%m%d')} ta, \n",
    "         trips t, stop_times st, stops s\n",
    "         where ta.trip_id = t.trip_id and t.trip_id = st.trip_id and st.stop_id = s.stop_id \n",
    "         group by all         \n",
    "\n",
    "\"\"\")"
   ]
  },
  {
   "cell_type": "markdown",
   "id": "323f8e1c",
   "metadata": {},
   "source": [
    "#### Ermitteln der erschlossenen Einwohnern je Gemeinde an einem Verkehrstag"
   ]
  },
  {
   "cell_type": "code",
   "execution_count": null,
   "id": "4c34a060",
   "metadata": {},
   "outputs": [],
   "source": [
    "duck.sql(f\"\"\"create or replace table zensus_vt_{date_object.strftime('%Y%m%d')} as\n",
    "         select ags, gen, \n",
    "         sum(Insgesamt_Bevoelkerung) as sum_ew,\n",
    "        sum(unter18) as sum_unter18,\n",
    "        sum(a18bis29) as sum_a18bis29,\n",
    "         sum(a30bis49) as sum_a30bis49,\n",
    "         sum(a50bis64) as sum_a50bis64,\n",
    "         sum(a65undaelter) as sum_a65undaelter\n",
    "         \n",
    "         from\n",
    "         (\n",
    "        select distinct z.*\n",
    "         from vbn_zensus z, \n",
    "         \n",
    "         (\n",
    "         select distinct s.stop_id, s.stop_name, s.geom, s.stop_lon, s.stop_lat, count(t.trip_id) as anzahl_abfahrten\n",
    "         from trips_{date_object.strftime('%Y%m%d')} ta, \n",
    "         trips t, stop_times st, stops s\n",
    "         where ta.trip_id = t.trip_id and t.trip_id = st.trip_id and st.stop_id = s.stop_id\n",
    "         group by all) s\n",
    "         \n",
    "            where st_within(\n",
    "            st_transform(z.geom, 'EPSG:4326', 'EPSG:25832'),    \n",
    "            st_buffer(\n",
    "                st_transform(s.geom, 'EPSG:4326', 'EPSG:25832')\n",
    "            , {radius} ))\n",
    "            and s.anzahl_abfahrten > {mindest_abfahrten}  -- Mindestanzahl an Abfahrten\n",
    "            ) as ew_vt,\n",
    "             gemeinden g\n",
    "            where st_within(st_transform(ew_vt.geom,'EPSG:4326' ,'EPSG:25832', always_xy := true), g.geom )\n",
    "            group by all\n",
    "            order by ags\n",
    "               \"\"\")\n",
    "duck.sql(f\"from zensus_vt_{date_object.strftime('%Y%m%d')}\").df()"
   ]
  },
  {
   "cell_type": "markdown",
   "id": "0a4f3805",
   "metadata": {},
   "source": [
    "### Ermitteln aller Einwohner"
   ]
  },
  {
   "cell_type": "code",
   "execution_count": null,
   "id": "71d9ab91",
   "metadata": {},
   "outputs": [],
   "source": [
    "duck.sql(f\"\"\"create or replace table zensus_gesamt as\n",
    "         select ags, gen, \n",
    "         sum(Insgesamt_Bevoelkerung) as sum_ew_ges,\n",
    "        sum(unter18) as sum_unter18_ges,\n",
    "        sum(a18bis29) as sum_a18bis29_ges,\n",
    "         sum(a30bis49) as sum_a30bis49_ges,\n",
    "         sum(a50bis64) as sum_a50bis64_ges,\n",
    "         sum(a65undaelter) as sum_a65undaelter_ges\n",
    "         \n",
    "         from vbn_zensus z,\n",
    "         gemeinden g\n",
    "         where st_within(st_transform(z.geom,'EPSG:4326' ,'EPSG:25832', always_xy := true), g.geom )\n",
    "         group by all\n",
    "         order by ags\n",
    "         \"\"\")"
   ]
  },
  {
   "cell_type": "markdown",
   "id": "ba37cb72",
   "metadata": {},
   "source": [
    "### Ermitteln des Anteils der Einwohner je Gemeinde (Mitgliegsgemeinde)"
   ]
  },
  {
   "cell_type": "code",
   "execution_count": null,
   "id": "d0b48d28",
   "metadata": {},
   "outputs": [],
   "source": [
    "duck.sql(f\"\"\"select g.ags, g.gen, g.sum_ew_ges, v.sum_ew, round(v.sum_ew/g.sum_ew_ges, 3) as anteil_ew_vt\n",
    "         from zensus_gesamt g\n",
    "         left join zensus_vt_{date_object.strftime('%Y%m%d')} v on g.ags = v.ags\n",
    "         \n",
    "         order by ags\"\"\").df()"
   ]
  },
  {
   "cell_type": "code",
   "execution_count": null,
   "id": "835a5705",
   "metadata": {},
   "outputs": [],
   "source": []
  }
 ],
 "metadata": {
  "kernelspec": {
   "display_name": ".venv",
   "language": "python",
   "name": "python3"
  },
  "language_info": {
   "codemirror_mode": {
    "name": "ipython",
    "version": 3
   },
   "file_extension": ".py",
   "mimetype": "text/x-python",
   "name": "python",
   "nbconvert_exporter": "python",
   "pygments_lexer": "ipython3",
   "version": "3.13.5"
  }
 },
 "nbformat": 4,
 "nbformat_minor": 5
}
